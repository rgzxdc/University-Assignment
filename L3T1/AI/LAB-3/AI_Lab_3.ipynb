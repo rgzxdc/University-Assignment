{
  "nbformat": 4,
  "nbformat_minor": 0,
  "metadata": {
    "colab": {
      "name": "AI Lab 3.ipynb",
      "provenance": [],
      "collapsed_sections": []
    },
    "kernelspec": {
      "name": "python3",
      "display_name": "Python 3"
    },
    "language_info": {
      "name": "python"
    }
  },
  "cells": [
    {
      "cell_type": "code",
      "execution_count": 2,
      "metadata": {
        "colab": {
          "base_uri": "https://localhost:8080/"
        },
        "id": "sihQ5lTqS-fN",
        "outputId": "a389acd5-e772-41f6-d46f-bce4da2682b1"
      },
      "outputs": [
        {
          "output_type": "stream",
          "name": "stdout",
          "text": [
            "Hello World\n"
          ]
        }
      ],
      "source": [
        "print(\"Hello World\")"
      ]
    },
    {
      "cell_type": "code",
      "source": [
        "a = 10\n",
        "b = 11\n",
        "print(f\"Sum of a and b is {a+b}\")"
      ],
      "metadata": {
        "colab": {
          "base_uri": "https://localhost:8080/"
        },
        "id": "Lbi-tKUEVkt_",
        "outputId": "e8688696-12f7-4f80-d4e6-65b543155e74"
      },
      "execution_count": 8,
      "outputs": [
        {
          "output_type": "stream",
          "name": "stdout",
          "text": [
            "Sum of a and b is 21\n"
          ]
        }
      ]
    },
    {
      "cell_type": "code",
      "source": [
        "if b > a:\n",
        "  print(\"B is greater than A\")\n",
        "elif a == b:\n",
        "  print(\"A and b is equal\")\n",
        "else:\n",
        "  print(\"A is greater than b\")"
      ],
      "metadata": {
        "colab": {
          "base_uri": "https://localhost:8080/"
        },
        "id": "mpCBjpjMXIM-",
        "outputId": "af4b6c2d-72d8-4a22-c698-6a5ec1a617ae"
      },
      "execution_count": 10,
      "outputs": [
        {
          "output_type": "stream",
          "name": "stdout",
          "text": [
            "B is greater than A\n"
          ]
        }
      ]
    },
    {
      "cell_type": "code",
      "source": [
        "#Nested IF\n",
        "x = 41\n",
        "if x > 10:\n",
        "  print(\"Above ten,\")\n",
        "  if x > 20:\n",
        "    print(\"and also above 20!\")\n",
        "  else:\n",
        "    print(\"but not above 20.\")\n"
      ],
      "metadata": {
        "colab": {
          "base_uri": "https://localhost:8080/"
        },
        "id": "Ay9Y1WIlb5ze",
        "outputId": "28e55649-8064-433a-c8bb-f745d0846afa"
      },
      "execution_count": 11,
      "outputs": [
        {
          "output_type": "stream",
          "name": "stdout",
          "text": [
            "Above ten,\n",
            "and also above 20!\n"
          ]
        }
      ]
    },
    {
      "cell_type": "code",
      "source": [
        "i = 1\n",
        "while i < 21:\n",
        "  print(i)\n",
        "  i += 1"
      ],
      "metadata": {
        "colab": {
          "base_uri": "https://localhost:8080/"
        },
        "id": "ViSHRJ4Jd2tt",
        "outputId": "6993aa8a-8c29-4838-afa9-753dd90d2680"
      },
      "execution_count": 13,
      "outputs": [
        {
          "output_type": "stream",
          "name": "stdout",
          "text": [
            "1\n",
            "2\n",
            "3\n",
            "4\n",
            "5\n",
            "6\n",
            "7\n",
            "8\n",
            "9\n",
            "10\n",
            "11\n",
            "12\n",
            "13\n",
            "14\n",
            "15\n",
            "16\n",
            "17\n",
            "18\n",
            "19\n",
            "20\n"
          ]
        }
      ]
    },
    {
      "cell_type": "code",
      "source": [
        "i = 50\n",
        "while i >= 20:\n",
        "  print(i)\n",
        "\n",
        "  if i == 30: break\n",
        "  i -= 2"
      ],
      "metadata": {
        "colab": {
          "base_uri": "https://localhost:8080/"
        },
        "id": "zlormM6Qepu9",
        "outputId": "b01e9c35-c5f6-413a-d522-d07599bf5936"
      },
      "execution_count": 19,
      "outputs": [
        {
          "output_type": "stream",
          "name": "stdout",
          "text": [
            "50\n",
            "48\n",
            "46\n",
            "44\n",
            "42\n",
            "40\n",
            "38\n",
            "36\n",
            "34\n",
            "32\n",
            "30\n"
          ]
        }
      ]
    },
    {
      "cell_type": "code",
      "source": [
        "i = 50\n",
        "while i >= 20:\n",
        "  print(i)\n",
        "\n",
        "  if i == 30: break\n",
        "  i -= 2"
      ],
      "metadata": {
        "colab": {
          "base_uri": "https://localhost:8080/"
        },
        "id": "I6E0-rVte9Sd",
        "outputId": "d5dbbb0c-c838-449e-ea8f-0995d3775b1f"
      },
      "execution_count": 20,
      "outputs": [
        {
          "output_type": "stream",
          "name": "stdout",
          "text": [
            "50\n",
            "48\n",
            "46\n",
            "44\n",
            "42\n",
            "40\n",
            "38\n",
            "36\n",
            "34\n",
            "32\n",
            "30\n"
          ]
        }
      ]
    },
    {
      "cell_type": "code",
      "source": [
        "i = 50\n",
        "while i >= 20:\n",
        "  i -= 2\n",
        "  print(i)\n",
        "  if i == 30: continue\n",
        "  \n",
        "  "
      ],
      "metadata": {
        "colab": {
          "base_uri": "https://localhost:8080/"
        },
        "id": "tDoX9AswgE30",
        "outputId": "7916ed42-5d83-44ad-c31c-33d62c86aa44"
      },
      "execution_count": 26,
      "outputs": [
        {
          "output_type": "stream",
          "name": "stdout",
          "text": [
            "48\n",
            "46\n",
            "44\n",
            "42\n",
            "40\n",
            "38\n",
            "36\n",
            "34\n",
            "32\n",
            "30\n",
            "28\n",
            "26\n",
            "24\n",
            "22\n",
            "20\n",
            "18\n"
          ]
        }
      ]
    },
    {
      "cell_type": "code",
      "source": [
        "#list array\n",
        "\n",
        "country = [\"Bangladesh\", \"India\", \"Nepal\", \"Srilanka\"]\n",
        "\n",
        "len(country)"
      ],
      "metadata": {
        "colab": {
          "base_uri": "https://localhost:8080/"
        },
        "id": "nq9kOT1BhcTF",
        "outputId": "4e8c581a-c0dc-4ee1-b7f3-7e0335e8a1cd"
      },
      "execution_count": 29,
      "outputs": [
        {
          "output_type": "execute_result",
          "data": {
            "text/plain": [
              "4"
            ]
          },
          "metadata": {},
          "execution_count": 29
        }
      ]
    },
    {
      "cell_type": "code",
      "source": [
        "country = [\"Bangladesh\", \"India\", \"Nepal\", \"Srilanka\"]\n",
        "\n",
        "for x in country:\n",
        "  print(x)"
      ],
      "metadata": {
        "colab": {
          "base_uri": "https://localhost:8080/"
        },
        "id": "eoXl2jy6lWld",
        "outputId": "196d5ecf-7eb2-4388-c537-c1e52095fbee"
      },
      "execution_count": 30,
      "outputs": [
        {
          "output_type": "stream",
          "name": "stdout",
          "text": [
            "Bangladesh\n",
            "India\n",
            "Nepal\n",
            "Srilanka\n"
          ]
        }
      ]
    },
    {
      "cell_type": "code",
      "source": [
        "country = [\"Bangladesh\", \"India\", \"Nepal\", \"Srilanka\"]\n",
        "\n",
        "country.append(\"Mayanmar\")\n",
        "for x in country:\n",
        "  print(x)"
      ],
      "metadata": {
        "colab": {
          "base_uri": "https://localhost:8080/"
        },
        "id": "JcHBed0Iltk8",
        "outputId": "94be65d6-e122-4f7c-d4ec-811469beef5f"
      },
      "execution_count": 33,
      "outputs": [
        {
          "output_type": "stream",
          "name": "stdout",
          "text": [
            "Bangladesh\n",
            "India\n",
            "Nepal\n",
            "Srilanka\n",
            "Mayanmar\n"
          ]
        }
      ]
    },
    {
      "cell_type": "code",
      "source": [
        "country = [\"Bangladesh\", \"India\", \"Nepal\", \"Srilanka\"]\n",
        "\n",
        "country.append(\"Mayanmar\")\n",
        "for x in country:\n",
        "  print(x)"
      ],
      "metadata": {
        "id": "XD1nydBemcPl"
      },
      "execution_count": null,
      "outputs": []
    }
  ]
}