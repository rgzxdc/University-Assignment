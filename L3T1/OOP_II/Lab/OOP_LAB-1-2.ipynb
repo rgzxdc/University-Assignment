{
 "cells": [
  {
   "cell_type": "code",
   "execution_count": 3,
   "id": "d77a2467",
   "metadata": {},
   "outputs": [
    {
     "name": "stdout",
     "output_type": "stream",
     "text": [
      "K\n",
      "a\n"
     ]
    }
   ],
   "source": [
    "#Print first and last ch\n",
    "\n",
    "name = \"kiShor pasha\"\n",
    "print(name[0])\n",
    "print(name[-1])\n",
    "\n",
    "#end"
   ]
  },
  {
   "cell_type": "code",
   "execution_count": 14,
   "id": "5d07d115",
   "metadata": {},
   "outputs": [
    {
     "name": "stdout",
     "output_type": "stream",
     "text": [
      "KISHOR PASHA\n",
      "kiShor pAsha\n",
      "kishor pasha\n",
      "kiShor pAsha\n",
      "Kishor Pasha\n",
      "kiShor pAsha\n",
      "['kiShor', 'pAsha']\n",
      "kiShor pAsha\n"
     ]
    }
   ],
   "source": [
    "#string methods\n",
    "name = \"kiShor pAsha\"\n",
    "\n",
    "print(name.upper())\n",
    "print(name)\n",
    "print(name.lower())\n",
    "print(name)\n",
    "print(name.title())\n",
    "print(name)\n",
    "print(name.split())\n",
    "print(name)\n",
    "\n",
    "#end"
   ]
  },
  {
   "cell_type": "code",
   "execution_count": 25,
   "id": "41adc78e",
   "metadata": {},
   "outputs": [
    {
     "name": "stdout",
     "output_type": "stream",
     "text": [
      "Kishor\n",
      "Pasha\n",
      "My name is Kishor. Pasha.\n",
      "Name is Kishor Pasha\n"
     ]
    }
   ],
   "source": [
    "#string Formating\n",
    "\n",
    "first_name = input()\n",
    "last_name = input()\n",
    "print(\"My name is {} {} \".format(first_name, last_name))\n",
    "\n",
    "print(f\"Name is {first_name} {last_name}\")\n",
    "\n",
    "#end"
   ]
  },
  {
   "cell_type": "code",
   "execution_count": 22,
   "id": "6997381c",
   "metadata": {},
   "outputs": [
    {
     "name": "stdout",
     "output_type": "stream",
     "text": [
      "Name? : James Bond\n",
      "Names Bond, James Bond\n"
     ]
    }
   ],
   "source": [
    "#James Bond Intro\n",
    "name = input(\"Name? : \")\n",
    "f_name = name.split()[0]\n",
    "l_name = name.split()[1]\n",
    "\n",
    "print(f\"Names {l_name}, {f_name} {l_name}\")\n",
    "\n",
    "#end"
   ]
  },
  {
   "cell_type": "code",
   "execution_count": 37,
   "id": "9bc259a0",
   "metadata": {},
   "outputs": [
    {
     "name": "stdout",
     "output_type": "stream",
     "text": [
      "['Kishor Pasha', 3878, 'PC-A']\n",
      "Name: Kishor Pasha \n",
      "ID: 3878 \n",
      "Section: PC-A\n",
      "<class 'list'>\n",
      "3\n"
     ]
    }
   ],
   "source": [
    "#list\n",
    "\n",
    "tinGoyenda = [\"Kishor Pasha\", 3878, \"PC-A\"]\n",
    "print(tinGoyenda)\n",
    "print(f\"Name: {tinGoyenda[0]} \\nID: {tinGoyenda[1]} \\nSection: {tinGoyenda[2]}\\n{type(tinGoyenda)}\")\n",
    "\n",
    "print(len(tinGoyenda))\n",
    "#end"
   ]
  },
  {
   "cell_type": "code",
   "execution_count": 14,
   "id": "3f07ddc2",
   "metadata": {},
   "outputs": [
    {
     "name": "stdout",
     "output_type": "stream",
     "text": [
      "Enter Your Marks: 100\n",
      "A+\n"
     ]
    }
   ],
   "source": [
    "#operators and statements : Gradding System\n",
    "\n",
    "marks = float(input(\"Enter Your Marks: \"))\n",
    "\n",
    "if 0<=marks<40:\n",
    "    print(\"F\")\n",
    "elif 39<marks<45:\n",
    "    print(\"D\")\n",
    "elif 44<marks<50:\n",
    "    print(\"C\")\n",
    "elif 49<marks<55:\n",
    "    print(\"C+\")\n",
    "elif 54<marks<60:\n",
    "    print(\"B-\")\n",
    "elif 59<marks<65:\n",
    "    print(\"B\")\n",
    "elif 64<marks<70:\n",
    "    print(\"B+\")\n",
    "elif 69<marks<75:\n",
    "    print(\"A-\")\n",
    "elif 74<marks<80:\n",
    "    print(\"A\")\n",
    "elif 79<marks<=100:\n",
    "    print(\"A+\")\n",
    "else:\n",
    "    print(\"Invalid\")\n",
    "\n",
    "#end"
   ]
  },
  {
   "cell_type": "code",
   "execution_count": 24,
   "id": "39fbf788",
   "metadata": {},
   "outputs": [
    {
     "name": "stdout",
     "output_type": "stream",
     "text": [
      "Person 1 Age: 10\n",
      "Person 2 Age: 20\n",
      "Person 3 Age: 30\n",
      "Person 2 if Oldest and Person 1 is Younest\n",
      "Person 1 is Oldest and Person 1 is Youngest\n"
     ]
    }
   ],
   "source": [
    "#Youngest and Oldest\n",
    "\n",
    "person1 = int(input(\"Person 1 Age: \"))\n",
    "person2 = int(input(\"Person 2 Age: \"))\n",
    "person3 = int(input(\"Person 3 Age: \"))\n",
    "\n",
    "\n",
    "if person2 < person1 > person3:\n",
    "    if person2 > person3:\n",
    "        print(\"Person 1 is Oldest and Person 3 is Youngest\")\n",
    "    else:\n",
    "        print(\"Person 1 if Oldest and Person 2 is Younest\")\n",
    "        \n",
    "if person2 > person1:\n",
    "    if person1 > person3:\n",
    "        print(\"Person 2 is Oldest and Person 3 is Youngest\")\n",
    "    else:\n",
    "        print(\"Person 2 if Oldest and Person 1 is Younest\")\n",
    "            \n",
    "if person3 > person2:\n",
    "    if person2 > person1:\n",
    "        print(\"Person 1 is Oldest and Person 1 is Youngest\")\n",
    "    else:\n",
    "        print(\"Person 1 if Oldest and Person 2 is Younest\")\n",
    "\n",
    "#end"
   ]
  },
  {
   "cell_type": "code",
   "execution_count": null,
   "id": "059b43ff",
   "metadata": {},
   "outputs": [],
   "source": []
  },
  {
   "cell_type": "code",
   "execution_count": null,
   "id": "813e4a55",
   "metadata": {},
   "outputs": [],
   "source": []
  }
 ],
 "metadata": {
  "kernelspec": {
   "display_name": "Python 3 (ipykernel)",
   "language": "python",
   "name": "python3"
  },
  "language_info": {
   "codemirror_mode": {
    "name": "ipython",
    "version": 3
   },
   "file_extension": ".py",
   "mimetype": "text/x-python",
   "name": "python",
   "nbconvert_exporter": "python",
   "pygments_lexer": "ipython3",
   "version": "3.9.12"
  }
 },
 "nbformat": 4,
 "nbformat_minor": 5
}
